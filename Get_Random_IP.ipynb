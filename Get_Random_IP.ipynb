{
 "cells": [
  {
   "cell_type": "markdown",
   "metadata": {},
   "source": [
    "### Fetching IP Addresses between ranges"
   ]
  },
  {
   "cell_type": "code",
   "execution_count": 32,
   "metadata": {
    "ExecuteTime": {
     "end_time": "2020-05-20T14:38:11.569621Z",
     "start_time": "2020-05-20T14:38:11.562417Z"
    }
   },
   "outputs": [],
   "source": [
    "from selenium import webdriver\n",
    "from bs4 import BeautifulSoup\n",
    "import requests\n",
    "from lxml import etree\n",
    "import pandas as pd\n",
    "import time"
   ]
  },
  {
   "cell_type": "markdown",
   "metadata": {},
   "source": [
    "##### Sample link for random ips\n",
    "<br>\n",
    "https://onlinerandomtools.com/generate-random-ip?&start=192.168.1.0&end=192.168.1.255&count=10"
   ]
  },
  {
   "cell_type": "code",
   "execution_count": 6,
   "metadata": {
    "ExecuteTime": {
     "end_time": "2020-05-20T12:24:15.398213Z",
     "start_time": "2020-05-20T12:24:13.935112Z"
    }
   },
   "outputs": [],
   "source": [
    "# req = requests.get(\"https://onlinerandomtools.com/generate-random-ip?&start=192.168.1.0&end=192.168.1.255&count=10\")\n",
    "# page = req.text\n",
    "# soup = BeautifulSoup(page, 'html.parser')\n",
    "# dom = etree.HTML(page)\n",
    "# ips = dom.xpath('/html/body/div/div[1]/div[2]/div[3]/div/div[3]/div[1]/div/div/div[1]/div[3]/textarea//div/text()')"
   ]
  },
  {
   "cell_type": "code",
   "execution_count": 22,
   "metadata": {
    "ExecuteTime": {
     "end_time": "2020-05-20T14:30:51.771143Z",
     "start_time": "2020-05-20T14:30:51.763003Z"
    }
   },
   "outputs": [],
   "source": [
    "ranges = pd.read_csv('IPRangesOfInterest.csv')"
   ]
  },
  {
   "cell_type": "code",
   "execution_count": 23,
   "metadata": {
    "ExecuteTime": {
     "end_time": "2020-05-20T14:30:52.104583Z",
     "start_time": "2020-05-20T14:30:52.089691Z"
    }
   },
   "outputs": [
    {
     "data": {
      "text/html": [
       "<div>\n",
       "<style scoped>\n",
       "    .dataframe tbody tr th:only-of-type {\n",
       "        vertical-align: middle;\n",
       "    }\n",
       "\n",
       "    .dataframe tbody tr th {\n",
       "        vertical-align: top;\n",
       "    }\n",
       "\n",
       "    .dataframe thead th {\n",
       "        text-align: right;\n",
       "    }\n",
       "</style>\n",
       "<table border=\"1\" class=\"dataframe\">\n",
       "  <thead>\n",
       "    <tr style=\"text-align: right;\">\n",
       "      <th></th>\n",
       "      <th>Start</th>\n",
       "      <th>End</th>\n",
       "    </tr>\n",
       "  </thead>\n",
       "  <tbody>\n",
       "    <tr>\n",
       "      <th>0</th>\n",
       "      <td>223.224.0.0</td>\n",
       "      <td>223.239.255.255</td>\n",
       "    </tr>\n",
       "    <tr>\n",
       "      <th>1</th>\n",
       "      <td>157.32.0.0</td>\n",
       "      <td>157.51.255.255</td>\n",
       "    </tr>\n",
       "    <tr>\n",
       "      <th>2</th>\n",
       "      <td>47.29.0.0</td>\n",
       "      <td>47.31.255.255</td>\n",
       "    </tr>\n",
       "    <tr>\n",
       "      <th>3</th>\n",
       "      <td>49.32.0.0</td>\n",
       "      <td>49.47.255.255</td>\n",
       "    </tr>\n",
       "    <tr>\n",
       "      <th>4</th>\n",
       "      <td>27.248.0.0</td>\n",
       "      <td>27.251.255.255</td>\n",
       "    </tr>\n",
       "    <tr>\n",
       "      <th>5</th>\n",
       "      <td>49.248.0.0</td>\n",
       "      <td>49.249.255.255</td>\n",
       "    </tr>\n",
       "    <tr>\n",
       "      <th>6</th>\n",
       "      <td>59.88.0.0</td>\n",
       "      <td>59.99.255.255</td>\n",
       "    </tr>\n",
       "  </tbody>\n",
       "</table>\n",
       "</div>"
      ],
      "text/plain": [
       "         Start               End\n",
       "0  223.224.0.0   223.239.255.255\n",
       "1   157.32.0.0    157.51.255.255\n",
       "2    47.29.0.0     47.31.255.255\n",
       "3    49.32.0.0     49.47.255.255\n",
       "4   27.248.0.0    27.251.255.255\n",
       "5   49.248.0.0    49.249.255.255\n",
       "6    59.88.0.0     59.99.255.255"
      ]
     },
     "execution_count": 23,
     "metadata": {},
     "output_type": "execute_result"
    }
   ],
   "source": [
    "ranges"
   ]
  },
  {
   "cell_type": "markdown",
   "metadata": {},
   "source": [
    "#### Downloading all files manually right now. Shall be upated later"
   ]
  },
  {
   "cell_type": "code",
   "execution_count": 51,
   "metadata": {
    "ExecuteTime": {
     "end_time": "2020-05-20T15:08:00.822519Z",
     "start_time": "2020-05-20T15:06:25.736154Z"
    }
   },
   "outputs": [],
   "source": [
    "driver = webdriver.Chrome('./chromedriver')\n",
    "for index, row in ranges.iterrows():\n",
    "    driver.get('https://onlinerandomtools.com/generate-random-ip?&start={}&end={}&count=500'.format(row[0],row[1]))\n",
    "    time.sleep(2)\n",
    "    bs = BeautifulSoup(driver.page_source)\n",
    "    time.sleep(10)\n",
    "    #tarea = bs.find(\"textarea\", class=\"data\")\n",
    "    #x = soup.findAll(\"textarea\", {\"class\": \"data\"})\n",
    "    #ips = tarea.text()\n",
    "    #dom = etree.HTML(page)\n",
    "    #ips = dom.xpath('/html/body/div/div[1]/div[2]/div[3]/div/div[3]/div[1]/div/div/div[1]/div[3]/textarea//div/text()')\n",
    "    #print(x[0].getText())\n",
    "    #break"
   ]
  }
 ],
 "metadata": {
  "kernelspec": {
   "display_name": "Python 3",
   "language": "python",
   "name": "python3"
  },
  "language_info": {
   "codemirror_mode": {
    "name": "ipython",
    "version": 3
   },
   "file_extension": ".py",
   "mimetype": "text/x-python",
   "name": "python",
   "nbconvert_exporter": "python",
   "pygments_lexer": "ipython3",
   "version": "3.7.7"
  },
  "varInspector": {
   "cols": {
    "lenName": 16,
    "lenType": 16,
    "lenVar": 40
   },
   "kernels_config": {
    "python": {
     "delete_cmd_postfix": "",
     "delete_cmd_prefix": "del ",
     "library": "var_list.py",
     "varRefreshCmd": "print(var_dic_list())"
    },
    "r": {
     "delete_cmd_postfix": ") ",
     "delete_cmd_prefix": "rm(",
     "library": "var_list.r",
     "varRefreshCmd": "cat(var_dic_list()) "
    }
   },
   "types_to_exclude": [
    "module",
    "function",
    "builtin_function_or_method",
    "instance",
    "_Feature"
   ],
   "window_display": false
  }
 },
 "nbformat": 4,
 "nbformat_minor": 4
}
